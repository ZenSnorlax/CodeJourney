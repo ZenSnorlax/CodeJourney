{
 "cells": [
  {
   "cell_type": "code",
   "execution_count": 3,
   "metadata": {},
   "outputs": [],
   "source": [
    "import re\n",
    "import time\n",
    "import requests\n",
    "import random"
   ]
  },
  {
   "cell_type": "code",
   "execution_count": null,
   "metadata": {},
   "outputs": [],
   "source": [
    "for page in range(1, 11):\n",
    "    resp = requests.get(\n",
    "        url=f\"https://movie.douban.com/top250?start={(page - 1) * 25}\",\n",
    "        headers={\"User-Agent\": \"Mozilla/5.0 (X11; Linux x86_64) AppleWebKit/537.36 (KHTML, like Gecko) Chrome/127.0.0.0 Safari/537.36\"}\n",
    "    )\n",
    "    \n",
    "    title_pattern = re.compile(r'<span class=\"title\">([^&]*?)</span>')\n",
    "    titles = title_pattern.findall(resp.text)\n",
    "\n",
    "    rank_pattern = re.compile(r'<span class=\"rating_num\".*?>(.*?)</span>')\n",
    "    ranks = rank_pattern.findall(resp.text)\n",
    "\n",
    "    for title, rank in zip(titles, ranks):\n",
    "        print(title, rank)\n",
    "\n",
    "    # time.sleep(random.random() * 4 + 1)\n",
    "\n"
   ]
  }
 ],
 "metadata": {
  "kernelspec": {
   "display_name": "pyenv",
   "language": "python",
   "name": "python3"
  },
  "language_info": {
   "codemirror_mode": {
    "name": "ipython",
    "version": 3
   },
   "file_extension": ".py",
   "mimetype": "text/x-python",
   "name": "python",
   "nbconvert_exporter": "python",
   "pygments_lexer": "ipython3",
   "version": "3.12.4"
  }
 },
 "nbformat": 4,
 "nbformat_minor": 2
}
